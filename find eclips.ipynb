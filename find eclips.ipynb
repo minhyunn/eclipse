{
 "cells": [
  {
   "cell_type": "code",
   "execution_count": 1,
   "metadata": {},
   "outputs": [],
   "source": [
    "import numpy as np\n",
    "\n",
    "#x is position of planet\n",
    "#M is mass of planet\n",
    "#G is gravitational constant\n",
    "\n",
    "#function returns gravitational acceleration\n",
    "def gravAccf(x, G, M):\n",
    "    return -G*M/(np.linalg.norm(x)**3)*x\n",
    "\n",
    "def nBodyF(t, solVec, mass):\n",
    "    G = 4*(np.pi)**2\n",
    "    N = np.size(mass)\n",
    "    solVec = np.reshape(solVec, (N,6)).T\n",
    "    F = np.zeros(np.shape(solVec))\n",
    "    for b in range(0,N):\n",
    "        for p in range(0,N):\n",
    "            if b != p:\n",
    "                F[0:3,[b]] = F[0:3,[b]]-gravAccf(solVec[3:6,[b]]-solVec[3:6,[p]],G,mass[p])\n",
    "    F = -F\n",
    "    for b in range(0,N):   \n",
    "        F[3:6,[b]]=solVec[0:3,[b]]\n",
    "    func = np.reshape(F.T,(np.size(solVec),1))\n",
    "    return func"
   ]
  },
  {
   "cell_type": "code",
   "execution_count": 2,
   "metadata": {},
   "outputs": [],
   "source": [
    "def Betamethod(f, tRange, u0, df, beta, h):\n",
    "    N = len(u0)\n",
    "    solArray = u0\n",
    "    tArray = np.arange(tRange[0], tRange[-1]+h, h)\n",
    "    #explicit methond\n",
    "    if beta == 0:\n",
    "        for k in range(0, len(tArray)-1):\n",
    "            u0 = u0+h*f(tArray[k],u0)\n",
    "            solArray = np.append(solArray, u0,1)\n",
    "    #implicit method        \n",
    "    else:\n",
    "        for k in range(0, len(tArray)-1): \n",
    "            def F(x):\n",
    "                return x-u0-h*f(tArray[k]+h*beta, (1-beta)*u0+beta*x)\n",
    "            def Df(x):\n",
    "                return np.eye(N)-h*beta*df(tArray[k]+h*beta,(1-beta)*u0+beta*x)   \n",
    "            [success, xHist, xfin, errEst] = newton(F, Df, u0, tol=10**(-12), maxIt=50)\n",
    "            u0=xfin\n",
    "            solArray = np.append(solArray, xfin, 1)\n",
    "            #terminate if Newton's method has failed\n",
    "            if success == 0:\n",
    "                print('newton method failed')\n",
    "                break\n",
    "                \n",
    "    return[tArray, solArray]"
   ]
  },
  {
   "cell_type": "code",
   "execution_count": 3,
   "metadata": {},
   "outputs": [],
   "source": [
    "def newton(f, df, x0, tol, maxIt):\n",
    "    \n",
    "    success = 0\n",
    "    \n",
    "    def G(x):\n",
    "        return x-np.linalg.solve(df(x),f(x))\n",
    "    \n",
    "    xHist = x0\n",
    "    errEst = []\n",
    "    \n",
    "    for k in range(0,maxIt):\n",
    "        xHist = np.append(xHist, G(xHist[:,[k]]),1)\n",
    "        errest = np.linalg.norm(xHist[:,[k+1]]-xHist[:,[k]])\n",
    "        errEst = np.append(errEst, errest)\n",
    "        if errest <tol:\n",
    "            success = 1\n",
    "            break\n",
    "            \n",
    "    xfin = xHist[:,[-1]]\n",
    "    \n",
    "    return [success, xHist, xfin, errEst]"
   ]
  },
  {
   "cell_type": "code",
   "execution_count": 4,
   "metadata": {},
   "outputs": [],
   "source": [
    "def gravAccJac(x, G, M):\n",
    "    return G*M/(np.linalg.norm(x)**3)*(-np.eye(3)+3/(np.linalg.norm(x)**2)*(x@(x.T)))\n",
    "\n",
    "def rangeVel(i):\n",
    "    vel = np.arange(6*(i-1),6*(i-1)+3,1)\n",
    "    return vel\n",
    "\n",
    "def rangePos(i):\n",
    "    pos= np.arange(6*(i-1)+3,6*i,1)\n",
    "    return pos\n",
    "\n",
    "def nBodyJac(t, solVec, mass):\n",
    "    G = 4*np.pi**2\n",
    "    N = np.size(mass)\n",
    "    jacF = np.zeros((np.size(solVec),np.size(solVec)))\n",
    "    for b in range(1,N+1):\n",
    "        for p in range (1,N+1):\n",
    "            if b != p:\n",
    "                jacg= gravAccJac(solVec[rangePos(p)]-solVec[rangePos(b)],G,mass[p-1])\n",
    "                jacF[rangeVel(b)[:,None],rangePos(p)] = jacF[rangeVel(b)[:,None],rangePos(p)]+jacg\n",
    "                jacF[rangeVel(b)[:,None],rangePos(b)] = jacF[rangeVel(b)[:,None],rangePos(b)]-jacg\n",
    "        jacF[rangePos(b)[:,None],rangeVel(b)]= np.eye(3)\n",
    "    return jacF"
   ]
  },
  {
   "cell_type": "code",
   "execution_count": 7,
   "metadata": {},
   "outputs": [],
   "source": [
    "from scipy import io\n",
    "\n",
    "mat = io.loadmat('solarSimData.mat')\n",
    "mass= mat['bodyMass']\n",
    "velAndPos = mat['velAndPos']\n",
    "h = 2/(365*24)\n",
    "beta = 1/2\n",
    "tRange = [0,1]\n",
    "\n",
    "def f(t,y):\n",
    "    return nBodyF(t,y,mass)\n",
    "\n",
    "def df(t,y):\n",
    "    return nBodyJac(t,y,mass)\n",
    "\n",
    "u0 = np.reshape(velAndPos.T,(66,1))\n",
    "\n",
    "[tArray, solArray] = Betamethod(f, tRange, u0, df, beta, h)"
   ]
  },
  {
   "cell_type": "code",
   "execution_count": 8,
   "metadata": {},
   "outputs": [],
   "source": [
    "size_t = np.size(tArray)\n",
    "dme = np.zeros((3,size_t))\n",
    "dms = np.zeros((3,size_t))\n",
    "alpha = np.zeros(size_t)\n",
    "\n",
    "for t in range(0,np.size(tArray)):\n",
    "    dme= solArray[27:30,[t]]-solArray[21:24,[t]]\n",
    "    dms= solArray[27:30,[t]]-solArray[3:6,[t]]\n",
    "    alpha[t] = (dme.T@dms)/((np.linalg.norm(dme,2)*np.linalg.norm(dms,2))) "
   ]
  },
  {
   "cell_type": "code",
   "execution_count": 9,
   "metadata": {},
   "outputs": [],
   "source": [
    "def findlocalMaxima(xvals, yvals):\n",
    "    \n",
    "    N = np.size(yvals)\n",
    "    xmax = []\n",
    "    ymax = []\n",
    "    \n",
    "    for t in range(1,N-1):\n",
    "        if  yvals[t]>yvals[t-1]:\n",
    "             if yvals[t] >yvals[t+1]:\n",
    "                X = [xvals[t-1],xvals[t],xvals[t+1]]\n",
    "                Y = [yvals[t-1], yvals[t], yvals[t+1]]\n",
    "                c = np.polyfit(X,Y,2)\n",
    "                x_max = -c[1]/(2*c[0])\n",
    "                y_max = c[0]*x_max**2+c[1]*x_max+c[2]\n",
    "                xmax = np.append(xmax, x_max)\n",
    "                ymax = np.append(ymax, y_max)\n",
    "                \n",
    "    return [xmax, ymax]"
   ]
  },
  {
   "cell_type": "code",
   "execution_count": 10,
   "metadata": {},
   "outputs": [
    {
     "name": "stdout",
     "output_type": "stream",
     "text": [
      "lunar eclips at 2019-07-16 20:18:26.453092\n",
      "lunar eclips at 2020-01-10 13:47:53.763118\n",
      "solar eclips at 2019-07-02 18:36:53.961995\n",
      "solar eclips at 2019-12-26 00:11:03.151452\n"
     ]
    }
   ],
   "source": [
    "import datetime\n",
    "start = datetime.datetime(2019,5,29,9,0,0)\n",
    "\n",
    "[xmax, ymax] = findlocalMaxima(tArray,alpha)\n",
    "\n",
    "for i in range(0, np.size(ymax)):\n",
    "    if abs(ymax[i]-1) <3*10**(-4):\n",
    "        lunar = start +datetime.timedelta(seconds=365*24*3600*xmax[i])\n",
    "        print(\"lunar eclips at\",lunar)\n",
    "        \n",
    "[xmax, ymax] = findlocalMaxima(tArray,-alpha)\n",
    "\n",
    "for i in range(0,np.size(ymax)):\n",
    "    if abs(-ymax[i]+1) <3*10**(-4):\n",
    "        solar = start +datetime.timedelta(seconds=365*24*3600*xmax[i])\n",
    "        print(\"solar eclips at\",solar)"
   ]
  },
  {
   "cell_type": "code",
   "execution_count": null,
   "metadata": {},
   "outputs": [],
   "source": []
  }
 ],
 "metadata": {
  "kernelspec": {
   "display_name": "Python 3",
   "language": "python",
   "name": "python3"
  },
  "language_info": {
   "codemirror_mode": {
    "name": "ipython",
    "version": 3
   },
   "file_extension": ".py",
   "mimetype": "text/x-python",
   "name": "python",
   "nbconvert_exporter": "python",
   "pygments_lexer": "ipython3",
   "version": "3.8.5"
  }
 },
 "nbformat": 4,
 "nbformat_minor": 4
}
