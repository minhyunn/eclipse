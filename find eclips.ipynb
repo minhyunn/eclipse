{
 "cells": [
  {
   "cell_type": "markdown",
   "metadata": {},
   "source": [
    "${\\large \\textbf{Finding Eclipse}}$\n",
    "\n",
    "Our problem is to expect solar and lunar eclipses that will occur in the next 1 year. Consider the following initial conditions.\n",
    "\n",
    "$-{\\scriptsize \\textbf{velAndPos}}$: $6\\cdot 1$ array containing the velocities and positions of the Sun, Mercury, Venus, Earth, Earth's Moon, Mars, Jupiter, Saturn, Uranus, Neptune, and Pluto. The positions and velocities are corresponding to 29th May 2019, at 9 am.\n",
    "\n",
    "$-{\\scriptsize \\textbf{bodyMass}}$: $11\\cdot 1$ array containing mass of each body."
   ]
  },
  {
   "cell_type": "code",
   "execution_count": 1,
   "metadata": {},
   "outputs": [],
   "source": [
    "from scipy import io\n",
    "import pandas as pd\n",
    "\n",
    "mat = io.loadmat('solarSimData.mat')\n",
    "\n",
    "mass= mat['bodyMass']\n",
    "velAndPos = mat['velAndPos']"
   ]
  },
  {
   "cell_type": "markdown",
   "metadata": {},
   "source": [
    "The motion of $11$bodies can be described as the system of ODEs,\n",
    "\n",
    "$$ \\begin{equation*}\n",
    "\\frac{d}{dt}   \\begin{bmatrix}\n",
    "v^b \\\\\n",
    "x^b\n",
    "\\end{bmatrix} = \\begin{bmatrix}\n",
    "\\sum_{p=1,p \\neq b}^{11}g\\left(x^b-x^p,M^p\\right)\\\\\n",
    "v^b\n",
    "\\end{bmatrix},\n",
    "\\end{equation*}$$\n",
    "\n",
    "for $b = 1,...11$. Here $x^b \\in \\mathbb{R}^3, v^b \\in \\mathbb{R}^3,M^p$ are positions, velocities and mass of $11$ bodies, respectively.\n",
    "The function ${\\scriptsize \\textbf{nBodyf}}$ compute the right-hand side of the system of ODEs. This function internally use the implementation of the function ${\\scriptsize \\textbf{gravAccf}}$, which returns gravitational acceleration."
   ]
  },
  {
   "cell_type": "code",
   "execution_count": 2,
   "metadata": {},
   "outputs": [],
   "source": [
    "import numpy as np\n",
    "\n",
    "#G is gravitational constant\n",
    "def gravAccf(x, G, M):\n",
    "    return -G*M/(np.linalg.norm(x)**3)*x\n",
    "\n",
    "def nBodyF(t, solVec, mass):\n",
    "    G = 4*(np.pi)**2\n",
    "    N = np.size(mass)\n",
    "    solVec = np.reshape(solVec, (N,6)).T\n",
    "    F = np.zeros(np.shape(solVec))\n",
    "    for b in range(0,N):\n",
    "        for p in range(0,N):\n",
    "            if b != p:\n",
    "                F[0:3,[b]] = F[0:3,[b]]-gravAccf(solVec[3:6,[b]]-solVec[3:6,[p]],G,mass[p])\n",
    "    F = -F\n",
    "    for b in range(0,N):   \n",
    "        F[3:6,[b]]=solVec[0:3,[b]]\n",
    "    func = np.reshape(F.T,(np.size(solVec),1))\n",
    "    return func"
   ]
  },
  {
   "cell_type": "markdown",
   "metadata": {},
   "source": [
    "The given problem can be written as an initial-valued problem\n",
    "\n",
    "$$\\frac{dy}{dt} = f(t,y), t\\in [t_0,T],$$\n",
    "\n",
    "$$y(t_0)=y_0=\\begin{bmatrix}\n",
    "v_0\\\\\n",
    "x_0\n",
    "\\end{bmatrix}.$$\n",
    "\n",
    "We wish to find an approximation $u_n \\approx y(t_n)$, for $t_n = t_0+nh$. We consider the $\\beta$-method for solving IVPs, which is given by \n",
    "\n",
    "$$u_0 = y_0, u_{n+1}= u_{n}+hf(t_{n+\\beta}, (1-\\beta)u_n+\\beta u_{n+1}),$$\n",
    "\n",
    "where $t_{n+\\beta}=t+\\beta h$ and $\\beta \\in \\mathbb{R}.$ If $\\beta = 0$, the $\\beta$-method is explicit. However, for $\\beta \\neq 0$, we need to solve implicit method. Hence, in each step, we solve \n",
    "\n",
    "$$F(u_{n+1})=0, F(x)= x-u_n-hf(t_{n+\\beta}, (1-\\beta)u_n+\\beta x).$$\n",
    "\n",
    "The function ${\\scriptsize \\textbf{Betamethod}}$ internally uses the implementation of the Newton method when $\\beta \\neq 0$."
   ]
  },
  {
   "cell_type": "code",
   "execution_count": 3,
   "metadata": {},
   "outputs": [],
   "source": [
    "def Betamethod(f, tRange, u0, df, beta, h):\n",
    "    N = len(u0)\n",
    "    solArray = u0\n",
    "    tArray = np.arange(tRange[0], tRange[-1]+h, h)\n",
    "    #explicit methond\n",
    "    if beta == 0:\n",
    "        for k in range(0, len(tArray)-1):\n",
    "            u0 = u0+h*f(tArray[k],u0)\n",
    "            solArray = np.append(solArray, u0,1)\n",
    "    #implicit method        \n",
    "    else:\n",
    "        for k in range(0, len(tArray)-1): \n",
    "            def F(x):\n",
    "                return x-u0-h*f(tArray[k]+h*beta, (1-beta)*u0+beta*x)\n",
    "            def Df(x):\n",
    "                return np.eye(N)-h*beta*df(tArray[k]+h*beta,(1-beta)*u0+beta*x)   \n",
    "            [success, xHist, xfin, errEst] = newton(F, Df, u0, tol=10**(-12), maxIt=50)\n",
    "            u0=xfin\n",
    "            solArray = np.append(solArray, xfin, 1)\n",
    "            #terminate if Newton's method has failed\n",
    "            if success == 0:\n",
    "                print('newton method failed')\n",
    "                break\n",
    "                \n",
    "    return[tArray, solArray]"
   ]
  },
  {
   "cell_type": "markdown",
   "metadata": {},
   "source": [
    "Newton's method update $x$ in each iteration as follows,\n",
    "\n",
    "$$x_{n+1} = x_n -J_F (x_n)^{-1} \\cdot F(x_n).$$\n",
    "\n",
    "If the initial guess is close enough to the real root, it converges to the root of $F.$"
   ]
  },
  {
   "cell_type": "code",
   "execution_count": 4,
   "metadata": {},
   "outputs": [],
   "source": [
    "def newton(f, df, x0, tol, maxIt):\n",
    "    \n",
    "    success = 0\n",
    "    \n",
    "    def G(x):\n",
    "        return x-np.linalg.solve(df(x),f(x))\n",
    "    \n",
    "    xHist = x0\n",
    "    errEst = []\n",
    "    \n",
    "    for k in range(0,maxIt):\n",
    "        xHist = np.append(xHist, G(xHist[:,[k]]),1)\n",
    "        errest = np.linalg.norm(xHist[:,[k+1]]-xHist[:,[k]])\n",
    "        errEst = np.append(errEst, errest)\n",
    "        if errest <tol:\n",
    "            success = 1\n",
    "            break\n",
    "            \n",
    "    xfin = xHist[:,[-1]]\n",
    "    \n",
    "    return [success, xHist, xfin, errEst]"
   ]
  },
  {
   "cell_type": "code",
   "execution_count": 5,
   "metadata": {},
   "outputs": [],
   "source": [
    "#jacobian of gravitational constant\n",
    "def gravAccJac(x, G, M):\n",
    "    return G*M/(np.linalg.norm(x)**3)*(-np.eye(3)+3/(np.linalg.norm(x)**2)*(x@(x.T)))\n",
    "\n",
    "def rangeVel(i):\n",
    "    vel = np.arange(6*(i-1),6*(i-1)+3,1)\n",
    "    return vel\n",
    "\n",
    "def rangePos(i):\n",
    "    pos= np.arange(6*(i-1)+3,6*i,1)\n",
    "    return pos\n",
    "\n",
    "def nBodyJac(t, solVec, mass):\n",
    "    G = 4*np.pi**2\n",
    "    N = np.size(mass)\n",
    "    jacF = np.zeros((np.size(solVec),np.size(solVec)))\n",
    "    for b in range(1,N+1):\n",
    "        for p in range (1,N+1):\n",
    "            if b != p:\n",
    "                jacg= gravAccJac(solVec[rangePos(p)]-solVec[rangePos(b)],G,mass[p-1])\n",
    "                jacF[rangeVel(b)[:,None],rangePos(p)] = jacF[rangeVel(b)[:,None],rangePos(p)]+jacg\n",
    "                jacF[rangeVel(b)[:,None],rangePos(b)] = jacF[rangeVel(b)[:,None],rangePos(b)]-jacg\n",
    "        jacF[rangePos(b)[:,None],rangeVel(b)]= np.eye(3)\n",
    "    return jacF"
   ]
  },
  {
   "cell_type": "code",
   "execution_count": 6,
   "metadata": {},
   "outputs": [],
   "source": [
    "#We use a time step of 2 hours and beta = 1/2\n",
    "\n",
    "h = 2/(365*24)\n",
    "beta = 1/2\n",
    "tRange = [0,1]\n",
    "\n",
    "def f(t,y):\n",
    "    return nBodyF(t,y,mass)\n",
    "\n",
    "def df(t,y):\n",
    "    return nBodyJac(t,y,mass)\n",
    "\n",
    "u0 = np.reshape(velAndPos.T,(66,1))\n",
    "\n",
    "[tArray, solArray] = Betamethod(f, tRange, u0, df, beta, h)"
   ]
  },
  {
   "cell_type": "markdown",
   "metadata": {},
   "source": [
    "We can plot the positions of the approximate orbits in the x,y plane."
   ]
  },
  {
   "cell_type": "code",
   "execution_count": 7,
   "metadata": {},
   "outputs": [
    {
     "data": {
      "image/png": "[encoded data removed]",
      "text/plain": [
       "<Figure size 432x288 with 1 Axes>"
      ]
     },
     "metadata": {
      "needs_background": "light"
     },
     "output_type": "display_data"
    }
   ],
   "source": [
    "import matplotlib.pyplot as plt\n",
    "plt.title(\"Approximate orbit\\n\")\n",
    "plt.plot(solArray[21,:],solArray[22,:],label='Earth')\n",
    "plt.legend()\n",
    "plt.show()"
   ]
  },
  {
   "cell_type": "markdown",
   "metadata": {},
   "source": [
    "The occurrence of a solar eclipse and a lunar eclipse corresponds to $\\alpha(t)=-1$ and $\\alpha(t)=1$, respectively, where\n",
    "\n",
    "$$\\alpha(t)= \\frac{dme(t)\\cdot dms(t)}{||dme(t)||_2||dms(t)||_2}.$$\n",
    "\n",
    "Here dme is the distance between Earth's Moon and Earth, and dms is the distance between Earth's Moon and the sun. We find solar eclipses by computing a local minimum of $\\alpha_n=\\alpha(t_n)$ where additionally $|\\alpha_n+1|<3\\cdot 10^{-4}$, lunar eclipses by computing a local maximum of $\\alpha_n$ which satisfies $|\\alpha_n=1|< 3\\cdot 10^{-4}$."
   ]
  },
  {
   "cell_type": "code",
   "execution_count": 8,
   "metadata": {},
   "outputs": [],
   "source": [
    "size_t = np.size(tArray)\n",
    "dme = np.zeros((3,size_t))\n",
    "dms = np.zeros((3,size_t))\n",
    "alpha = np.zeros(size_t)\n",
    "\n",
    "for t in range(0,np.size(tArray)):\n",
    "    dme= solArray[27:30,[t]]-solArray[21:24,[t]]\n",
    "    dms= solArray[27:30,[t]]-solArray[3:6,[t]]\n",
    "    alpha[t] = (dme.T@dms)/((np.linalg.norm(dme,2)*np.linalg.norm(dms,2))) "
   ]
  },
  {
   "cell_type": "code",
   "execution_count": 9,
   "metadata": {},
   "outputs": [],
   "source": [
    "def findlocalMaxima(xvals, yvals):\n",
    "    \n",
    "    N = np.size(yvals)\n",
    "    xmax = []\n",
    "    ymax = []\n",
    "    \n",
    "    for t in range(1,N-1):\n",
    "        if  yvals[t]>yvals[t-1]:\n",
    "             if yvals[t] >yvals[t+1]:\n",
    "                X = [xvals[t-1],xvals[t],xvals[t+1]]\n",
    "                Y = [yvals[t-1], yvals[t], yvals[t+1]]\n",
    "                c = np.polyfit(X,Y,2)\n",
    "                x_max = -c[1]/(2*c[0])\n",
    "                y_max = c[0]*x_max**2+c[1]*x_max+c[2]\n",
    "                xmax = np.append(xmax, x_max)\n",
    "                ymax = np.append(ymax, y_max)\n",
    "                \n",
    "    return [xmax, ymax]"
   ]
  },
  {
   "cell_type": "code",
   "execution_count": 10,
   "metadata": {},
   "outputs": [
    {
     "name": "stdout",
     "output_type": "stream",
     "text": [
      "Lunar and solar eclipses will occur on:\n",
      "\n",
      "2019-07-16 20:18:26 (lunar eclipse)\n",
      "2020-01-10 13:47:54 (lunar eclipse)\n",
      "2019-07-02 18:36:54 (solar eclipse)\n",
      "2019-12-26 00:11:03 (solar eclipse)\n"
     ]
    }
   ],
   "source": [
    "import datetime\n",
    "start = datetime.datetime(2019,5,29,9,0,0)\n",
    "\n",
    "[xmax, ymax] = findlocalMaxima(tArray,alpha)\n",
    "\n",
    "print(\"Lunar and solar eclipses will occur on:\\n\")\n",
    "\n",
    "for i in range(0, np.size(ymax)):\n",
    "    if abs(ymax[i]-1) <3*10**(-4):\n",
    "        lunar = start +datetime.timedelta(seconds=round(365*24*3600*xmax[i]))\n",
    "        print(lunar,\"(lunar eclipse)\")\n",
    "        \n",
    "[xmax, ymax] = findlocalMaxima(tArray,-alpha)\n",
    "\n",
    "for i in range(0,np.size(ymax)):\n",
    "    if abs(-ymax[i]+1) <3*10**(-4):\n",
    "        solar = start +datetime.timedelta(seconds=round(365*24*3600*xmax[i]))\n",
    "        print(solar,\"(solar eclipse)\")"
   ]
  }
 ],
 "metadata": {
  "kernelspec": {
   "display_name": "Python 3",
   "language": "python",
   "name": "python3"
  },
  "language_info": {
   "codemirror_mode": {
    "name": "ipython",
    "version": 3
   },
   "file_extension": ".py",
   "mimetype": "text/x-python",
   "name": "python",
   "nbconvert_exporter": "python",
   "pygments_lexer": "ipython3",
   "version": "3.8.5"
  }
 },
 "nbformat": 4,
 "nbformat_minor": 4
}
